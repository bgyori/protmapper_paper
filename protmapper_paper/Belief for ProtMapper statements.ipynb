{
 "cells": [
  {
   "cell_type": "code",
   "execution_count": 1,
   "metadata": {},
   "outputs": [],
   "source": [
    "import json\n",
    "import pickle\n",
    "import random\n",
    "import numpy as np\n",
    "import pandas as pd\n",
    "from collections import Counter\n",
    "from matplotlib import pyplot as plt\n",
    "from sklearn.ensemble import RandomForestClassifier\n",
    "\n",
    "from indra import belief\n",
    "from indra.belief.skl import CountsScorer\n",
    "from indra.ontology.bio import bio_ontology\n",
    "from indra.preassembler import Preassembler\n",
    "from indra.tools import assemble_corpus as ac\n",
    "from indra.statements import Phosphorylation, Modification, stmts_from_json, stmts_to_json"
   ]
  },
  {
   "cell_type": "markdown",
   "metadata": {},
   "source": [
    "## Train the belief model on previously curated statements"
   ]
  },
  {
   "cell_type": "markdown",
   "metadata": {},
   "source": [
    "Load the curated statements from JSON file:"
   ]
  },
  {
   "cell_type": "code",
   "execution_count": 2,
   "metadata": {},
   "outputs": [],
   "source": [
    "with open('../data/protmapper_belief_training_corpus.json', 'r') as f:\n",
    "    stmt_json = json.load(f)\n",
    "    training_stmts = stmts_from_json(stmt_json)"
   ]
  },
  {
   "cell_type": "code",
   "execution_count": 3,
   "metadata": {},
   "outputs": [],
   "source": [
    "with open('../data/protmapper_belief_training_corpus_curations.json', 'r') as f:\n",
    "    curations_by_hash = json.load(f)\n",
    "    # Convert hashes from strings to int after JSON deserialization\n",
    "    curations_by_hash = {int(k): v for k, v in curations_by_hash.items()}"
   ]
  },
  {
   "cell_type": "code",
   "execution_count": 4,
   "metadata": {},
   "outputs": [],
   "source": [
    "# Match the correctness values to the statements by hash\n",
    "correctness_arr = [curations_by_hash[s.get_hash()] for s in training_stmts]"
   ]
  },
  {
   "cell_type": "code",
   "execution_count": 5,
   "metadata": {},
   "outputs": [],
   "source": [
    "# The best performing Belief model makes use of evidence directly supporting\n",
    "# a particular statement and the evidence from more specific statements.\n",
    "with open('../data/protmapper_belief_training_corpus_extra_evidences.pkl', 'rb') as f:\n",
    "    extra_evidence = pickle.load(f)"
   ]
  },
  {
   "cell_type": "code",
   "execution_count": 7,
   "metadata": {
    "scrolled": true
   },
   "outputs": [
    {
     "data": {
      "text/plain": [
       "['sparser',\n",
       " 'signor',\n",
       " 'bel',\n",
       " 'isi',\n",
       " 'trips',\n",
       " 'hprd',\n",
       " 'medscan',\n",
       " 'trrust',\n",
       " 'reach',\n",
       " 'biopax',\n",
       " 'rlimsp']"
      ]
     },
     "execution_count": 7,
     "metadata": {},
     "output_type": "execute_result"
    }
   ],
   "source": [
    "# Get list of sources found in the training statement evidences\n",
    "all_sources = list(set([ev.source_api for stmt in training_stmts for ev in stmt.evidence]))\n",
    "all_sources"
   ]
  },
  {
   "cell_type": "code",
   "execution_count": 8,
   "metadata": {},
   "outputs": [],
   "source": [
    "# Use a Random Forest classifier\n",
    "clf = RandomForestClassifier(n_estimators=2000, max_depth=13)\n",
    "\n",
    "# Provide all available features as well as the more specific evidences.\n",
    "# However, limit the source evidence to only what is obtained from readers\n",
    "scorer = CountsScorer(\n",
    "    clf, all_sources, use_stmt_type=True, use_num_pmids=True,\n",
    "    use_promoter=True, use_avg_evidence_len=True, include_more_specific=True,\n",
    "    use_residue_position=True)\n",
    "\n",
    "# Train the model on the curated data\n",
    "scorer.fit(training_stmts, correctness_arr, extra_evidence)"
   ]
  },
  {
   "cell_type": "markdown",
   "metadata": {},
   "source": [
    "## Load and preprocess ProtMapper corpus statements"
   ]
  },
  {
   "cell_type": "code",
   "execution_count": 10,
   "metadata": {
    "scrolled": true
   },
   "outputs": [
    {
     "name": "stderr",
     "output_type": "stream",
     "text": [
      "INFO: [2022-10-26 11:48:16] indra.tools.assemble_corpus - Loading ../data/annotation_statements_2.pkl...\n",
      "INFO: [2022-10-26 11:48:18] indra.tools.assemble_corpus - Loaded 37028 statements\n"
     ]
    }
   ],
   "source": [
    "protmap_stmts = ac.load_statements('../data/annotation_statements_2.pkl')"
   ]
  },
  {
   "cell_type": "code",
   "execution_count": 11,
   "metadata": {},
   "outputs": [],
   "source": [
    "dbs = set(['psp', 'signor', 'hprd', 'pid', 'bel', 'reactome'])"
   ]
  },
  {
   "cell_type": "code",
   "execution_count": 13,
   "metadata": {},
   "outputs": [],
   "source": [
    "# Assign every db source_api to biopax as a proxy\n",
    "for stmt in protmap_stmts:\n",
    "    for ev in stmt.evidence:\n",
    "        if ev.source_api in dbs:\n",
    "            ev.source_api = 'biopax'"
   ]
  },
  {
   "cell_type": "code",
   "execution_count": 14,
   "metadata": {
    "scrolled": true
   },
   "outputs": [],
   "source": [
    "protmap_stmts = [s for s in protmap_stmts if s.agent_list()[0] is not None]"
   ]
  },
  {
   "cell_type": "code",
   "execution_count": 15,
   "metadata": {},
   "outputs": [],
   "source": [
    "pa = Preassembler(bio_ontology, protmap_stmts)"
   ]
  },
  {
   "cell_type": "code",
   "execution_count": 16,
   "metadata": {
    "scrolled": true
   },
   "outputs": [
    {
     "name": "stderr",
     "output_type": "stream",
     "text": [
      "Finding refinement relations:   0%|          | 0/36904 [00:00<?, ?it/s]INFO: [2022-10-26 11:49:11] indra.ontology.bio.ontology - Initializing INDRA bio ontology for the first time, this may take a few minutes...\n",
      "INFO: [2022-10-26 11:49:11] indra.ontology.bio.ontology - Adding nodes...\n",
      "INFO: [2022-10-26 11:50:02] indra.ontology.bio.ontology - Adding xrefs...\n",
      "WARNING: [2022-10-26 11:50:03] indra.ontology.bio.ontology - Invalid identifier: O43687, Q9P0M2 for UP pattern ^([A-N,R-Z][0-9]([A-Z][A-Z, 0-9][A-Z, 0-9][0-9]){1,2})|([O,P,Q][0-9][A-Z, 0-9][A-Z, 0-9][A-Z, 0-9][0-9])(\\.\\d+)?$\n",
      "WARNING: [2022-10-26 11:50:03] indra.ontology.bio.ontology - Invalid identifier: Q96PG8, Q9BXH1 for UP pattern ^([A-N,R-Z][0-9]([A-Z][A-Z, 0-9][A-Z, 0-9][0-9]){1,2})|([O,P,Q][0-9][A-Z, 0-9][A-Z, 0-9][A-Z, 0-9][0-9])(\\.\\d+)?$\n",
      "WARNING: [2022-10-26 11:50:03] indra.ontology.bio.ontology - Invalid identifier: P01258, P06881 for UP pattern ^([A-N,R-Z][0-9]([A-Z][A-Z, 0-9][A-Z, 0-9][0-9]){1,2})|([O,P,Q][0-9][A-Z, 0-9][A-Z, 0-9][A-Z, 0-9][0-9])(\\.\\d+)?$\n",
      "WARNING: [2022-10-26 11:50:03] indra.ontology.bio.ontology - Invalid identifier: Q6XLA1, Q8IU53 for UP pattern ^([A-N,R-Z][0-9]([A-Z][A-Z, 0-9][A-Z, 0-9][0-9]){1,2})|([O,P,Q][0-9][A-Z, 0-9][A-Z, 0-9][A-Z, 0-9][0-9])(\\.\\d+)?$\n",
      "WARNING: [2022-10-26 11:50:03] indra.ontology.bio.ontology - Invalid identifier: P42771, Q8N726 for UP pattern ^([A-N,R-Z][0-9]([A-Z][A-Z, 0-9][A-Z, 0-9][0-9]){1,2})|([O,P,Q][0-9][A-Z, 0-9][A-Z, 0-9][A-Z, 0-9][0-9])(\\.\\d+)?$\n",
      "WARNING: [2022-10-26 11:50:03] indra.ontology.bio.ontology - Invalid identifier: Q96RT6, Q9HC47 for UP pattern ^([A-N,R-Z][0-9]([A-Z][A-Z, 0-9][A-Z, 0-9][0-9]){1,2})|([O,P,Q][0-9][A-Z, 0-9][A-Z, 0-9][A-Z, 0-9][0-9])(\\.\\d+)?$\n",
      "WARNING: [2022-10-26 11:50:03] indra.ontology.bio.ontology - Invalid identifier: P39880, Q13948 for UP pattern ^([A-N,R-Z][0-9]([A-Z][A-Z, 0-9][A-Z, 0-9][0-9]){1,2})|([O,P,Q][0-9][A-Z, 0-9][A-Z, 0-9][A-Z, 0-9][0-9])(\\.\\d+)?$\n",
      "WARNING: [2022-10-26 11:50:03] indra.ontology.bio.ontology - Invalid identifier: P0DPQ6, P35638 for UP pattern ^([A-N,R-Z][0-9]([A-Z][A-Z, 0-9][A-Z, 0-9][0-9]){1,2})|([O,P,Q][0-9][A-Z, 0-9][A-Z, 0-9][A-Z, 0-9][0-9])(\\.\\d+)?$\n",
      "WARNING: [2022-10-26 11:50:03] indra.ontology.bio.ontology - Invalid identifier: Q6B8I1, Q9UII6 for UP pattern ^([A-N,R-Z][0-9]([A-Z][A-Z, 0-9][A-Z, 0-9][0-9]){1,2})|([O,P,Q][0-9][A-Z, 0-9][A-Z, 0-9][A-Z, 0-9][0-9])(\\.\\d+)?$\n",
      "WARNING: [2022-10-26 11:50:03] indra.ontology.bio.ontology - Invalid identifier: O95925, Q9BQY6 for UP pattern ^([A-N,R-Z][0-9]([A-Z][A-Z, 0-9][A-Z, 0-9][0-9]){1,2})|([O,P,Q][0-9][A-Z, 0-9][A-Z, 0-9][A-Z, 0-9][0-9])(\\.\\d+)?$\n",
      "WARNING: [2022-10-26 11:50:03] indra.ontology.bio.ontology - Invalid identifier: P0DP91, Q03468 for UP pattern ^([A-N,R-Z][0-9]([A-Z][A-Z, 0-9][A-Z, 0-9][0-9]){1,2})|([O,P,Q][0-9][A-Z, 0-9][A-Z, 0-9][A-Z, 0-9][0-9])(\\.\\d+)?$\n",
      "WARNING: [2022-10-26 11:50:03] indra.ontology.bio.ontology - Invalid identifier: P61583, Q9HDB8, Q9HDB9 for UP pattern ^([A-N,R-Z][0-9]([A-Z][A-Z, 0-9][A-Z, 0-9][0-9]){1,2})|([O,P,Q][0-9][A-Z, 0-9][A-Z, 0-9][A-Z, 0-9][0-9])(\\.\\d+)?$\n",
      "WARNING: [2022-10-26 11:50:03] indra.ontology.bio.ontology - Invalid identifier: Q69383, Q69384, Q7LDI9, Q9BXR3, Q9Y6I0 for UP pattern ^([A-N,R-Z][0-9]([A-Z][A-Z, 0-9][A-Z, 0-9][0-9]){1,2})|([O,P,Q][0-9][A-Z, 0-9][A-Z, 0-9][A-Z, 0-9][0-9])(\\.\\d+)?$\n",
      "WARNING: [2022-10-26 11:50:03] indra.ontology.bio.ontology - Invalid identifier: P61567, P61582, P63130, P63131, P63135 for UP pattern ^([A-N,R-Z][0-9]([A-Z][A-Z, 0-9][A-Z, 0-9][0-9]){1,2})|([O,P,Q][0-9][A-Z, 0-9][A-Z, 0-9][A-Z, 0-9][0-9])(\\.\\d+)?$\n",
      "WARNING: [2022-10-26 11:50:03] indra.ontology.bio.ontology - Invalid identifier: P61575, P62685, P63122, P63133, Q902F8 for UP pattern ^([A-N,R-Z][0-9]([A-Z][A-Z, 0-9][A-Z, 0-9][0-9]){1,2})|([O,P,Q][0-9][A-Z, 0-9][A-Z, 0-9][A-Z, 0-9][0-9])(\\.\\d+)?$\n",
      "WARNING: [2022-10-26 11:50:03] indra.ontology.bio.ontology - Invalid identifier: P61573, P63126, P63127, P63128, Q9UKH3 for UP pattern ^([A-N,R-Z][0-9]([A-Z][A-Z, 0-9][A-Z, 0-9][0-9]){1,2})|([O,P,Q][0-9][A-Z, 0-9][A-Z, 0-9][A-Z, 0-9][0-9])(\\.\\d+)?$\n",
      "WARNING: [2022-10-26 11:50:03] indra.ontology.bio.ontology - Invalid identifier: P10265, P10266, P61580, P87889 for UP pattern ^([A-N,R-Z][0-9]([A-Z][A-Z, 0-9][A-Z, 0-9][0-9]){1,2})|([O,P,Q][0-9][A-Z, 0-9][A-Z, 0-9][A-Z, 0-9][0-9])(\\.\\d+)?$\n",
      "WARNING: [2022-10-26 11:50:03] indra.ontology.bio.ontology - Invalid identifier: O42043, P63123, Q9QC07 for UP pattern ^([A-N,R-Z][0-9]([A-Z][A-Z, 0-9][A-Z, 0-9][0-9]){1,2})|([O,P,Q][0-9][A-Z, 0-9][A-Z, 0-9][A-Z, 0-9][0-9])(\\.\\d+)?$\n",
      "WARNING: [2022-10-26 11:50:03] indra.ontology.bio.ontology - Invalid identifier: O71037, P61572, P63120, Q9WJR5, Q9YNA8 for UP pattern ^([A-N,R-Z][0-9]([A-Z][A-Z, 0-9][A-Z, 0-9][0-9]){1,2})|([O,P,Q][0-9][A-Z, 0-9][A-Z, 0-9][A-Z, 0-9][0-9])(\\.\\d+)?$\n",
      "WARNING: [2022-10-26 11:50:03] indra.ontology.bio.ontology - Invalid identifier: P61565, P61571, P62683, P63119 for UP pattern ^([A-N,R-Z][0-9]([A-Z][A-Z, 0-9][A-Z, 0-9][0-9]){1,2})|([O,P,Q][0-9][A-Z, 0-9][A-Z, 0-9][A-Z, 0-9][0-9])(\\.\\d+)?$\n",
      "WARNING: [2022-10-26 11:50:03] indra.ontology.bio.ontology - Invalid identifier: P61566, P61581, P63129, P63145 for UP pattern ^([A-N,R-Z][0-9]([A-Z][A-Z, 0-9][A-Z, 0-9][0-9]){1,2})|([O,P,Q][0-9][A-Z, 0-9][A-Z, 0-9][A-Z, 0-9][0-9])(\\.\\d+)?$\n",
      "WARNING: [2022-10-26 11:50:03] indra.ontology.bio.ontology - Invalid identifier: P61570, P61579, P63125, P63136 for UP pattern ^([A-N,R-Z][0-9]([A-Z][A-Z, 0-9][A-Z, 0-9][0-9]){1,2})|([O,P,Q][0-9][A-Z, 0-9][A-Z, 0-9][A-Z, 0-9][0-9])(\\.\\d+)?$\n",
      "WARNING: [2022-10-26 11:50:03] indra.ontology.bio.ontology - Invalid identifier: P35544, P62861 for UP pattern ^([A-N,R-Z][0-9]([A-Z][A-Z, 0-9][A-Z, 0-9][0-9]){1,2})|([O,P,Q][0-9][A-Z, 0-9][A-Z, 0-9][A-Z, 0-9][0-9])(\\.\\d+)?$\n",
      "WARNING: [2022-10-26 11:50:03] indra.ontology.bio.ontology - Invalid identifier: O95467, P63092, P84996, Q5JWF2 for UP pattern ^([A-N,R-Z][0-9]([A-Z][A-Z, 0-9][A-Z, 0-9][0-9]){1,2})|([O,P,Q][0-9][A-Z, 0-9][A-Z, 0-9][A-Z, 0-9][0-9])(\\.\\d+)?$\n",
      "WARNING: [2022-10-26 11:50:03] indra.ontology.bio.ontology - Invalid identifier: Q8WZ04, Q96E66 for UP pattern ^([A-N,R-Z][0-9]([A-Z][A-Z, 0-9][A-Z, 0-9][0-9]){1,2})|([O,P,Q][0-9][A-Z, 0-9][A-Z, 0-9][A-Z, 0-9][0-9])(\\.\\d+)?$\n",
      "WARNING: [2022-10-26 11:50:03] indra.ontology.bio.ontology - Invalid identifier: O96007, O96033 for UP pattern ^([A-N,R-Z][0-9]([A-Z][A-Z, 0-9][A-Z, 0-9][0-9]){1,2})|([O,P,Q][0-9][A-Z, 0-9][A-Z, 0-9][A-Z, 0-9][0-9])(\\.\\d+)?$\n",
      "WARNING: [2022-10-26 11:50:03] indra.ontology.bio.ontology - Invalid identifier: P58400, Q9ULB1 for UP pattern ^([A-N,R-Z][0-9]([A-Z][A-Z, 0-9][A-Z, 0-9][0-9]){1,2})|([O,P,Q][0-9][A-Z, 0-9][A-Z, 0-9][A-Z, 0-9][0-9])(\\.\\d+)?$\n",
      "WARNING: [2022-10-26 11:50:03] indra.ontology.bio.ontology - Invalid identifier: P58401, Q9P2S2 for UP pattern ^([A-N,R-Z][0-9]([A-Z][A-Z, 0-9][A-Z, 0-9][0-9]){1,2})|([O,P,Q][0-9][A-Z, 0-9][A-Z, 0-9][A-Z, 0-9][0-9])(\\.\\d+)?$\n",
      "WARNING: [2022-10-26 11:50:03] indra.ontology.bio.ontology - Invalid identifier: Q9HDB5, Q9Y4C0 for UP pattern ^([A-N,R-Z][0-9]([A-Z][A-Z, 0-9][A-Z, 0-9][0-9]){1,2})|([O,P,Q][0-9][A-Z, 0-9][A-Z, 0-9][A-Z, 0-9][0-9])(\\.\\d+)?$\n",
      "WARNING: [2022-10-26 11:50:03] indra.ontology.bio.ontology - Invalid identifier: P0DPB5, P0DPB6 for UP pattern ^([A-N,R-Z][0-9]([A-Z][A-Z, 0-9][A-Z, 0-9][0-9]){1,2})|([O,P,Q][0-9][A-Z, 0-9][A-Z, 0-9][A-Z, 0-9][0-9])(\\.\\d+)?$\n",
      "WARNING: [2022-10-26 11:50:03] indra.ontology.bio.ontology - Invalid identifier: P0CAP2, Q6EEV4 for UP pattern ^([A-N,R-Z][0-9]([A-Z][A-Z, 0-9][A-Z, 0-9][0-9]){1,2})|([O,P,Q][0-9][A-Z, 0-9][A-Z, 0-9][A-Z, 0-9][0-9])(\\.\\d+)?$\n",
      "WARNING: [2022-10-26 11:50:03] indra.ontology.bio.ontology - Invalid identifier: P0DI83, Q9BZG1 for UP pattern ^([A-N,R-Z][0-9]([A-Z][A-Z, 0-9][A-Z, 0-9][0-9]){1,2})|([O,P,Q][0-9][A-Z, 0-9][A-Z, 0-9][A-Z, 0-9][0-9])(\\.\\d+)?$\n",
      "WARNING: [2022-10-26 11:50:03] indra.ontology.bio.ontology - Invalid identifier: P60896, Q6ZVN7 for UP pattern ^([A-N,R-Z][0-9]([A-Z][A-Z, 0-9][A-Z, 0-9][0-9]){1,2})|([O,P,Q][0-9][A-Z, 0-9][A-Z, 0-9][A-Z, 0-9][0-9])(\\.\\d+)?$\n",
      "WARNING: [2022-10-26 11:50:03] indra.ontology.bio.ontology - Invalid identifier: O00241, Q5TFQ8 for UP pattern ^([A-N,R-Z][0-9]([A-Z][A-Z, 0-9][A-Z, 0-9][0-9]){1,2})|([O,P,Q][0-9][A-Z, 0-9][A-Z, 0-9][A-Z, 0-9][0-9])(\\.\\d+)?$\n"
     ]
    },
    {
     "name": "stderr",
     "output_type": "stream",
     "text": [
      "WARNING: [2022-10-26 11:50:03] indra.ontology.bio.ontology - Invalid identifier: P42166, P42167 for UP pattern ^([A-N,R-Z][0-9]([A-Z][A-Z, 0-9][A-Z, 0-9][0-9]){1,2})|([O,P,Q][0-9][A-Z, 0-9][A-Z, 0-9][A-Z, 0-9][0-9])(\\.\\d+)?$\n",
      "WARNING: [2022-10-26 11:50:03] indra.ontology.bio.ontology - Invalid identifier: Q8NFQ8, Q9H496 for UP pattern ^([A-N,R-Z][0-9]([A-Z][A-Z, 0-9][A-Z, 0-9][0-9]){1,2})|([O,P,Q][0-9][A-Z, 0-9][A-Z, 0-9][A-Z, 0-9][0-9])(\\.\\d+)?$\n",
      "WARNING: [2022-10-26 11:50:03] indra.ontology.bio.ontology - Invalid identifier: Q5JU69, Q8N2E6 for UP pattern ^([A-N,R-Z][0-9]([A-Z][A-Z, 0-9][A-Z, 0-9][0-9]){1,2})|([O,P,Q][0-9][A-Z, 0-9][A-Z, 0-9][A-Z, 0-9][0-9])(\\.\\d+)?$\n",
      "WARNING: [2022-10-26 11:50:03] indra.ontology.bio.ontology - Invalid identifier: P0DSE1, P0DTU3 for UP pattern ^([A-N,R-Z][0-9]([A-Z][A-Z, 0-9][A-Z, 0-9][0-9]){1,2})|([O,P,Q][0-9][A-Z, 0-9][A-Z, 0-9][A-Z, 0-9][0-9])(\\.\\d+)?$\n",
      "WARNING: [2022-10-26 11:50:03] indra.ontology.bio.ontology - Invalid identifier: P0DSE2, P0DTU4 for UP pattern ^([A-N,R-Z][0-9]([A-Z][A-Z, 0-9][A-Z, 0-9][0-9]){1,2})|([O,P,Q][0-9][A-Z, 0-9][A-Z, 0-9][A-Z, 0-9][0-9])(\\.\\d+)?$\n",
      "WARNING: [2022-10-26 11:50:03] indra.ontology.bio.ontology - Invalid identifier: Q70YC4, Q70YC5 for UP pattern ^([A-N,R-Z][0-9]([A-Z][A-Z, 0-9][A-Z, 0-9][0-9]){1,2})|([O,P,Q][0-9][A-Z, 0-9][A-Z, 0-9][A-Z, 0-9][0-9])(\\.\\d+)?$\n",
      "INFO: [2022-10-26 11:50:12] indra.ontology.bio.ontology - Adding hierarchy...\n",
      "INFO: [2022-10-26 11:50:32] indra.ontology.bio.ontology - Adding replacements...\n",
      "INFO: [2022-10-26 11:50:47] indra.ontology.bio.ontology - Building name lookup...\n",
      "INFO: [2022-10-26 11:50:51] indra.ontology.bio.ontology - Finished initializing bio ontology...\n",
      "INFO: [2022-10-26 11:50:51] indra.ontology.bio.ontology - Caching INDRA bio ontology at /Users/johnbachman/.indra/bio_ontology/1.28/bio_ontology.pkl\n",
      "Finding refinement relations: 100%|██████████| 36904/36904 [01:57<00:00, 315.09it/s]   \n",
      "INFO: [2022-10-26 11:51:08] indra.preassembler - Found 5068 refinements in 117.96s\n",
      "INFO: [2022-10-26 11:51:08] indra.preassembler - Total comparisons: 109478\n"
     ]
    }
   ],
   "source": [
    "protmap_stmts = pa.combine_related(return_toplevel=False)"
   ]
  },
  {
   "cell_type": "markdown",
   "metadata": {},
   "source": [
    "Split statements into those with and without support (direct or indirect) from databases:"
   ]
  },
  {
   "cell_type": "code",
   "execution_count": 19,
   "metadata": {},
   "outputs": [],
   "source": [
    "with_db_ev = []\n",
    "no_db_ev = []\n",
    "for s in protmap_stmts:\n",
    "    sources = set([e.source_api for e in s.evidence])\n",
    "    for supp_stmt in s.supports:\n",
    "        for supp_ev in supp_stmt.evidence:\n",
    "            sources.add(supp_ev.source_api)\n",
    "    if 'biopax' in sources:\n",
    "        with_db_ev.append(s)\n",
    "    else:\n",
    "        no_db_ev.append(s)"
   ]
  },
  {
   "cell_type": "markdown",
   "metadata": {},
   "source": [
    "Count statements with and without database support:"
   ]
  },
  {
   "cell_type": "code",
   "execution_count": 20,
   "metadata": {},
   "outputs": [
    {
     "data": {
      "text/plain": [
       "23931"
      ]
     },
     "execution_count": 20,
     "metadata": {},
     "output_type": "execute_result"
    }
   ],
   "source": [
    "len(with_db_ev)"
   ]
  },
  {
   "cell_type": "code",
   "execution_count": 21,
   "metadata": {},
   "outputs": [
    {
     "data": {
      "text/plain": [
       "12973"
      ]
     },
     "execution_count": 21,
     "metadata": {},
     "output_type": "execute_result"
    }
   ],
   "source": [
    "len(no_db_ev)"
   ]
  },
  {
   "cell_type": "markdown",
   "metadata": {},
   "source": [
    "## Predict belief for ProtMapper statements using trained model\n",
    "\n",
    "Assign all statements with DB support a belief of 1:"
   ]
  },
  {
   "cell_type": "code",
   "execution_count": 23,
   "metadata": {},
   "outputs": [],
   "source": [
    "for stmt in with_db_ev:\n",
    "    stmt.belief = 1"
   ]
  },
  {
   "cell_type": "code",
   "execution_count": 26,
   "metadata": {},
   "outputs": [],
   "source": [
    "stmts = no_db_ev\n",
    "belief_engine = belief.BeliefEngine(scorer)\n",
    "belief_engine.set_hierarchy_probs(stmts)"
   ]
  },
  {
   "cell_type": "markdown",
   "metadata": {},
   "source": [
    "Plot histogram of beliefs:"
   ]
  },
  {
   "cell_type": "code",
   "execution_count": 27,
   "metadata": {},
   "outputs": [
    {
     "data": {
      "text/plain": [
       "Text(0.5, 0, 'Belief')"
      ]
     },
     "execution_count": 27,
     "metadata": {},
     "output_type": "execute_result"
    },
    {
     "data": {
      "image/png": "[encoded data removed]",
      "text/plain": [
       "<Figure size 432x288 with 1 Axes>"
      ]
     },
     "metadata": {
      "needs_background": "light"
     },
     "output_type": "display_data"
    }
   ],
   "source": [
    "rf_beliefs = [s.belief for s in stmts]\n",
    "hist_res = plt.hist(rf_beliefs, alpha=0.5)\n",
    "#plt.hist(default_beliefs, alpha=0.5)\n",
    "plt.xlim(0, 1.02)\n",
    "plt.ylabel('Count')\n",
    "plt.xlabel('Belief')"
   ]
  },
  {
   "cell_type": "markdown",
   "metadata": {},
   "source": [
    "## Dumping the curated statements for the protmapper paper:"
   ]
  },
  {
   "cell_type": "code",
   "execution_count": null,
   "metadata": {
    "code_folding": []
   },
   "outputs": [],
   "source": [
    "# Load pickle of bioexp statements.\n",
    "bioexp_stmts = ac.load_statements('../../bioexp_paper/data/bioexp_asmb_preassembled.pkl')"
   ]
  },
  {
   "cell_type": "code",
   "execution_count": null,
   "metadata": {},
   "outputs": [],
   "source": [
    "# Get dataset of curated statements along with correctness values\n",
    "def stmts_for_df(df, stmts_by_hash):\n",
    "    stmt_list = []\n",
    "    for row in kge_df.itertuples():\n",
    "        stmt_hash = row.stmt_hash\n",
    "        if stmt_hash not in stmts_by_hash:\n",
    "            continue\n",
    "        stmt_list.append(stmts_by_hash[stmt_hash])\n",
    "    return stmt_list\n",
    "\n",
    "def load_curation_data(filename):\n",
    "    with open(filename, 'rb') as f:\n",
    "        dataset = pickle.load(f)\n",
    "        df = pd.DataFrame.from_records(dataset)\n",
    "        df = df.fillna(0)\n",
    "    # Every column except agent names and stmt type should be int\n",
    "    dtype_dict = {col: 'int64' for col in df.columns\n",
    "                  if col not in ('agA_name', 'agA_ns', 'agA_id', 'stmt_type',\n",
    "                                 'agB_name', 'agB_ns', 'agB_id')}\n",
    "    df = df.astype(dtype_dict)\n",
    "    return df\n",
    "\n",
    "stmts_by_hash = {s.get_hash(): s for s in bioexp_stmts}\n",
    "# Load the curated data\n",
    "curation_data_file = '../../bioexp_paper/notebooks/curation_dataset_with_bg_psp.pkl'\n",
    "kge_df = load_curation_data(curation_data_file)"
   ]
  },
  {
   "cell_type": "code",
   "execution_count": null,
   "metadata": {},
   "outputs": [],
   "source": [
    "# Get statements from curation dataframe\n",
    "kge_stmts = stmts_for_df(kge_df, stmts_by_hash)\n",
    "kge_hashes = [s.get_hash() for s in kge_stmts]\n",
    "\n",
    "# Curated correctness values\n",
    "y_arr = kge_df['correct'].values\n",
    "y_arr = [int(val) for val in y_arr] # Convert to int for JSON serialization"
   ]
  },
  {
   "cell_type": "code",
   "execution_count": null,
   "metadata": {},
   "outputs": [],
   "source": [
    "# Get the more specific evidences for the curated statements\n",
    "extra_evidence = belief.get_ev_for_stmts_from_supports(kge_stmts)"
   ]
  },
  {
   "cell_type": "code",
   "execution_count": null,
   "metadata": {},
   "outputs": [],
   "source": [
    "# Save the curated stmts\n",
    "with open('../data/protmapper_belief_training_corpus.json', 'w') as f:\n",
    "    json.dump(stmts_to_json(kge_stmts), f)\n",
    "    \n",
    "# Save the curations\n",
    "with open('../data/protmapper_belief_training_corpus_curations.json', 'w') as f:\n",
    "    json.dump(dict(zip(kge_hashes, y_arr)), f)\n",
    "    \n",
    "# Save the extra evidences\n",
    "with open('../data/protmapper_belief_training_corpus_extra_evidences.pkl', 'wb') as f:\n",
    "    pickle.dump(extra_evidence, f)"
   ]
  }
 ],
 "metadata": {
  "hide_input": false,
  "kernelspec": {
   "display_name": "Python 3",
   "language": "python",
   "name": "python3"
  },
  "language_info": {
   "codemirror_mode": {
    "name": "ipython",
    "version": 3
   },
   "file_extension": ".py",
   "mimetype": "text/x-python",
   "name": "python",
   "nbconvert_exporter": "python",
   "pygments_lexer": "ipython3",
   "version": "3.7.4"
  }
 },
 "nbformat": 4,
 "nbformat_minor": 2
}
